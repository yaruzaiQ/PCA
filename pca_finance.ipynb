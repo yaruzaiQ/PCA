{
 "cells": [
  {
   "cell_type": "markdown",
   "id": "8f5d354a",
   "metadata": {},
   "source": [
    "Product Analysis "
   ]
  },
  {
   "cell_type": "code",
   "execution_count": null,
   "id": "49663dce",
   "metadata": {},
   "outputs": [],
   "source": [
    "import pandas as pd\n",
    "\n",
    "test = int()\n",
    "test = 3"
   ]
  }
 ],
 "metadata": {
  "kernelspec": {
   "display_name": ".venv",
   "language": "python",
   "name": "python3"
  },
  "language_info": {
   "codemirror_mode": {
    "name": "ipython",
    "version": 3
   },
   "file_extension": ".py",
   "mimetype": "text/x-python",
   "name": "python",
   "nbconvert_exporter": "python",
   "pygments_lexer": "ipython3",
   "version": "3.13.7"
  }
 },
 "nbformat": 4,
 "nbformat_minor": 5
}
